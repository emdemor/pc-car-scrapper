{
 "cells": [
  {
   "cell_type": "code",
   "execution_count": 1,
   "id": "14526902",
   "metadata": {},
   "outputs": [],
   "source": [
    "import os \n",
    "os.chdir('../')\n",
    "\n",
    "import sys\n",
    "sys.path.append('scr/')"
   ]
  },
  {
   "cell_type": "code",
   "execution_count": 2,
   "id": "3054a046",
   "metadata": {},
   "outputs": [],
   "source": [
    "from itertools import chain\n",
    "import re\n",
    "\n",
    "import pandas as pd\n",
    "import numpy as np\n",
    "import http\n",
    "import time\n",
    "import json\n",
    "\n",
    "from functools import reduce\n",
    "from datetime import datetime\n",
    "from bs4 import BeautifulSoup\n",
    "from tqdm import tqdm\n",
    "from datetime import date, datetime\n",
    "\n",
    "from urllib.error import HTTPError\n",
    "from urllib.request import Request, urlopen\n",
    "\n",
    "from basix import parquet\n",
    "\n",
    "USER_AGENT = \"Mozilla/5.0 (X11; Linux x86_64) AppleWebKit/537.36 (KHTML, like Gecko) Chrome/71.0.3578.98 Safari/537.36\"\n",
    "\n",
    "BASE_URL = \"https://www.icarros.com.br/ache/listaanuncios.jsp?bid=1&pag={page}&lis=0&ord=24&sop=sta_1.1_-cid_3632.1_-esc_2.1_-rai_0.1_\"\n",
    "\n",
    "N_BY_PAGE = 20\n",
    "\n",
    "SLEEP_TIME_MEAN = 7\n",
    "SLEEP_TIME_STD = 5\n",
    "SLEEP_TIME_BIAS = 7\n",
    "\n",
    "OUTPUT_PATH = 'data/raw/scrapped/'"
   ]
  },
  {
   "cell_type": "code",
   "execution_count": 5,
   "id": "61a539a1",
   "metadata": {},
   "outputs": [],
   "source": [
    "df = pd.read_parquet(OUTPUT_PATH)\n",
    "df['price'] = df['price'].astype(float)"
   ]
  },
  {
   "cell_type": "code",
   "execution_count": 26,
   "id": "4d9850b7",
   "metadata": {},
   "outputs": [
    {
     "data": {
      "text/plain": [
       "0.15865"
      ]
     },
     "execution_count": 26,
     "metadata": {},
     "output_type": "execute_result"
    }
   ],
   "source": [
    "0.5-0.6827/2\n",
    "\n"
   ]
  },
  {
   "cell_type": "code",
   "execution_count": 27,
   "id": "c16873af",
   "metadata": {},
   "outputs": [
    {
     "data": {
      "text/plain": [
       "0.84135"
      ]
     },
     "execution_count": 27,
     "metadata": {},
     "output_type": "execute_result"
    }
   ],
   "source": [
    "0.5+0.6827/2"
   ]
  },
  {
   "cell_type": "code",
   "execution_count": 30,
   "id": "bd48d561",
   "metadata": {},
   "outputs": [
    {
     "data": {
      "text/html": [
       "<div>\n",
       "<style scoped>\n",
       "    .dataframe tbody tr th:only-of-type {\n",
       "        vertical-align: middle;\n",
       "    }\n",
       "\n",
       "    .dataframe tbody tr th {\n",
       "        vertical-align: top;\n",
       "    }\n",
       "\n",
       "    .dataframe thead th {\n",
       "        text-align: right;\n",
       "    }\n",
       "</style>\n",
       "<table border=\"1\" class=\"dataframe\">\n",
       "  <thead>\n",
       "    <tr style=\"text-align: right;\">\n",
       "      <th></th>\n",
       "      <th>p16</th>\n",
       "      <th>p50</th>\n",
       "      <th>p84</th>\n",
       "    </tr>\n",
       "    <tr>\n",
       "      <th>Ano</th>\n",
       "      <th></th>\n",
       "      <th></th>\n",
       "      <th></th>\n",
       "    </tr>\n",
       "  </thead>\n",
       "  <tbody>\n",
       "    <tr>\n",
       "      <th>2004</th>\n",
       "      <td>12000.0</td>\n",
       "      <td>12000.0</td>\n",
       "      <td>12000.0</td>\n",
       "    </tr>\n",
       "    <tr>\n",
       "      <th>2007</th>\n",
       "      <td>20000.0</td>\n",
       "      <td>20000.0</td>\n",
       "      <td>20000.0</td>\n",
       "    </tr>\n",
       "    <tr>\n",
       "      <th>2009</th>\n",
       "      <td>28000.0</td>\n",
       "      <td>28000.0</td>\n",
       "      <td>28000.0</td>\n",
       "    </tr>\n",
       "    <tr>\n",
       "      <th>2011</th>\n",
       "      <td>25040.0</td>\n",
       "      <td>41000.0</td>\n",
       "      <td>53840.0</td>\n",
       "    </tr>\n",
       "    <tr>\n",
       "      <th>2012</th>\n",
       "      <td>37392.0</td>\n",
       "      <td>42195.0</td>\n",
       "      <td>58700.0</td>\n",
       "    </tr>\n",
       "    <tr>\n",
       "      <th>2013</th>\n",
       "      <td>38592.0</td>\n",
       "      <td>57250.0</td>\n",
       "      <td>83900.0</td>\n",
       "    </tr>\n",
       "    <tr>\n",
       "      <th>2014</th>\n",
       "      <td>45454.0</td>\n",
       "      <td>54000.0</td>\n",
       "      <td>80140.0</td>\n",
       "    </tr>\n",
       "    <tr>\n",
       "      <th>2015</th>\n",
       "      <td>55294.0</td>\n",
       "      <td>68900.0</td>\n",
       "      <td>86700.0</td>\n",
       "    </tr>\n",
       "    <tr>\n",
       "      <th>2016</th>\n",
       "      <td>71303.2</td>\n",
       "      <td>86490.0</td>\n",
       "      <td>111703.2</td>\n",
       "    </tr>\n",
       "    <tr>\n",
       "      <th>2017</th>\n",
       "      <td>69970.8</td>\n",
       "      <td>95900.0</td>\n",
       "      <td>128010.8</td>\n",
       "    </tr>\n",
       "    <tr>\n",
       "      <th>2018</th>\n",
       "      <td>67050.0</td>\n",
       "      <td>96695.0</td>\n",
       "      <td>155850.8</td>\n",
       "    </tr>\n",
       "    <tr>\n",
       "      <th>2019</th>\n",
       "      <td>72550.0</td>\n",
       "      <td>101240.0</td>\n",
       "      <td>174270.0</td>\n",
       "    </tr>\n",
       "    <tr>\n",
       "      <th>2020</th>\n",
       "      <td>77690.0</td>\n",
       "      <td>113490.0</td>\n",
       "      <td>180300.0</td>\n",
       "    </tr>\n",
       "    <tr>\n",
       "      <th>2021</th>\n",
       "      <td>80930.0</td>\n",
       "      <td>105900.0</td>\n",
       "      <td>191530.0</td>\n",
       "    </tr>\n",
       "    <tr>\n",
       "      <th>2022</th>\n",
       "      <td>77411.0</td>\n",
       "      <td>102710.0</td>\n",
       "      <td>135000.0</td>\n",
       "    </tr>\n",
       "  </tbody>\n",
       "</table>\n",
       "</div>"
      ],
      "text/plain": [
       "          p16       p50       p84\n",
       "Ano                              \n",
       "2004  12000.0   12000.0   12000.0\n",
       "2007  20000.0   20000.0   20000.0\n",
       "2009  28000.0   28000.0   28000.0\n",
       "2011  25040.0   41000.0   53840.0\n",
       "2012  37392.0   42195.0   58700.0\n",
       "2013  38592.0   57250.0   83900.0\n",
       "2014  45454.0   54000.0   80140.0\n",
       "2015  55294.0   68900.0   86700.0\n",
       "2016  71303.2   86490.0  111703.2\n",
       "2017  69970.8   95900.0  128010.8\n",
       "2018  67050.0   96695.0  155850.8\n",
       "2019  72550.0  101240.0  174270.0\n",
       "2020  77690.0  113490.0  180300.0\n",
       "2021  80930.0  105900.0  191530.0\n",
       "2022  77411.0  102710.0  135000.0"
      ]
     },
     "execution_count": 30,
     "metadata": {},
     "output_type": "execute_result"
    }
   ],
   "source": [
    "\n",
    "temp"
   ]
  },
  {
   "cell_type": "code",
   "execution_count": 34,
   "id": "c2f4654c",
   "metadata": {},
   "outputs": [
    {
     "data": {
      "image/png": "[encoded data removed]",
      "text/plain": [
       "<Figure size 432x288 with 1 Axes>"
      ]
     },
     "metadata": {
      "needs_background": "light"
     },
     "output_type": "display_data"
    }
   ],
   "source": [
    "import matplotlib.pyplot as plt\n",
    "\n",
    "temp = df.groupby('Ano').agg(\n",
    "    p16 = ('price', lambda x: np.quantile(x, 0.16)),\n",
    "    p50 = ('price', lambda x: np.quantile(x, 0.50)),\n",
    "    p84 = ('price', lambda x: np.quantile(x, 0.84)),\n",
    ").reset_index()\n",
    "\n",
    "\n",
    "plt.plot(temp['Ano'], temp['p50'])\n",
    "plt.plot(temp['Ano'], temp['p16'])\n",
    "plt.plot(temp['Ano'], temp['p84'])\n",
    "plt.xticks(rotation=45)\n",
    "plt.show()"
   ]
  },
  {
   "cell_type": "code",
   "execution_count": 13,
   "id": "18f74365",
   "metadata": {},
   "outputs": [
    {
     "data": {
      "text/plain": [
       "brand\n",
       "ford              72700.0\n",
       "renault           80490.0\n",
       "hyundai           80490.0\n",
       "volkswagen        81900.0\n",
       "chevrolet         91490.0\n",
       "honda             94490.0\n",
       "kia               98445.0\n",
       "nissan            98490.0\n",
       "peugeot           99701.0\n",
       "mitsubishi        99900.0\n",
       "fiat             106240.0\n",
       "toyota           107695.0\n",
       "citroen          110811.0\n",
       "land-rover       119900.0\n",
       "caoa-chery       121900.0\n",
       "jeep             124490.0\n",
       "mercedes-benz    132900.0\n",
       "audi             132900.0\n",
       "bmw              240490.0\n",
       "porsche          510000.0\n",
       "Name: price, dtype: float64"
      ]
     },
     "execution_count": 13,
     "metadata": {},
     "output_type": "execute_result"
    }
   ],
   "source": [
    "df.groupby('brand')['price'].median().sort_values()"
   ]
  }
 ],
 "metadata": {
  "kernelspec": {
   "display_name": "venv",
   "language": "python",
   "name": "venv"
  },
  "language_info": {
   "codemirror_mode": {
    "name": "ipython",
    "version": 3
   },
   "file_extension": ".py",
   "mimetype": "text/x-python",
   "name": "python",
   "nbconvert_exporter": "python",
   "pygments_lexer": "ipython3",
   "version": "3.6.9"
  }
 },
 "nbformat": 4,
 "nbformat_minor": 5
}
